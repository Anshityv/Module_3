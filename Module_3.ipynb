{
  "nbformat": 4,
  "nbformat_minor": 0,
  "metadata": {
    "colab": {
      "provenance": [],
      "collapsed_sections": [
        "uKEKsT2jhref",
        "Kz-PC7THw5bz"
      ]
    },
    "kernelspec": {
      "name": "python3",
      "display_name": "Python 3"
    },
    "language_info": {
      "name": "python"
    }
  },
  "cells": [
    {
      "cell_type": "markdown",
      "source": [
        "# **Theory Questions**"
      ],
      "metadata": {
        "id": "uKEKsT2jhref"
      }
    },
    {
      "cell_type": "markdown",
      "source": [
        "1. What is the difference between a function and a method in Python?\n",
        "- Function:\n",
        "\n",
        "A function is a block of reusable code that performs a specific task.\n",
        "- It is defined using the def keyword followed by a function name, parentheses (), and a colon :.\n",
        "- Functions can be called independently from anywhere in your code.\n",
        "- They can accept input values and return output.\n",
        "```\n",
        "example\n",
        "def add_numbers(x, y):\n",
        "  return x + y\n",
        "result = add_numbers(5, 3)\n",
        "print(result)\n",
        "```\n",
        "- Method:\n",
        "\n",
        "A method is a function that is associated with an object.\n",
        "- It is defined within a class and operates on the data of that object.\n",
        "- Methods are called using the dot operator on an object of the class.\n",
        "\n",
        "\n",
        "```\n",
        "example:\n",
        "class Dog:\n",
        "  def __init__(self, name):\n",
        "    self.name = name\n",
        "  def bark(self):\n",
        "    print(\"Hello! My name is\", self.name)\n",
        "my_dog = Dog(\"batmax\")\n",
        "my_dog.bark()  \n",
        "\n",
        "```\n",
        "\n",
        "\n",
        "\n"
      ],
      "metadata": {
        "id": "sr_zNuMEhzCI"
      }
    },
    {
      "cell_type": "markdown",
      "source": [
        "2.  Explain the concept of function arguments and parameters in Python?\n",
        "- Parameters:\n",
        "\n",
        "Parameters are the names used in the function definition to represent the values that will be passed to the function when it is called.\n",
        "\n",
        "They act as placeholders for the actual values.\n",
        "- Arguments:\n",
        "\n",
        "Arguments are the actual values that are passed to the function when it is called.\n",
        "\n",
        "They are assigned to the corresponding parameters.\n",
        "```\n",
        "- Example:\n",
        "def greet(name, age):  \n",
        "# name and age are parameters\n",
        "  print(f\"Hello, {name}! You are {age} years old.\")\n",
        "\n",
        "greet(\"Shyam\", 29)  \n",
        "# \"Shyam\" and 29 are arguments\n",
        "```\n",
        "3. What are the different ways to define and call a function in Python?\n",
        "-\n",
        "\n",
        "```\n",
        "Defining a Function by using the def keyword :\n",
        "def my_function(parameters):\n",
        "       # Function body\n",
        "       return value  # Optional return statement\n",
        "```\n",
        "-\n",
        "```\n",
        "Calling a Function by name:\n",
        "my_function(arguments)\n",
        "def add(x, y):  # Defining the function\n",
        "    return x + y\n",
        "result = add(5, 3)  # Calling the function\n",
        "print(result)\n",
        "```\n",
        "\n",
        "\n",
        "\n"
      ],
      "metadata": {
        "id": "NKqmMjGGhy9G"
      }
    },
    {
      "cell_type": "markdown",
      "source": [
        "4.  What is the purpose of the `return` statement in a Python function?\n",
        "- Purpose:\n",
        "\n",
        "The return statement is used to:\n",
        "\n",
        "Exit the function: When the return statement is encountered, the function immediately stops executing and returns control to the caller.\n",
        "\n",
        "Return a value: It allows the function to send a value back to the part of the program that called it. This value can be of any data type, such as a number, string, list, or even another function.\n",
        "\n",
        "\n",
        "```\n",
        "#.Example\n",
        "\n",
        "def add_numbers(x, y):\n",
        "    \"\"\"This function adds two numbers and returns the sum.\"\"\"\n",
        "    sum = x + y\n",
        "    return sum  # Returns the calculated sum\n",
        "\n",
        "result = add_numbers(5, 3)  # Calling the function and storing the returned value\n",
        "print(result)  \n",
        "```\n",
        "\n"
      ],
      "metadata": {
        "id": "aP49Vz21hy5_"
      }
    },
    {
      "cell_type": "markdown",
      "source": [
        "5.  What are iterators in Python and how do they differ from iterables?\n",
        "-Iterables\n",
        "\n",
        "- Definition: An iterable is any object in Python that can be looped over. It has a method called __iter__ that returns an iterator.\n",
        "\n",
        "- Examples: Lists, tuples, strings, dictionaries, sets, and files are all iterables.\n",
        "\n",
        "-Iterators\n",
        "\n",
        "- Definition: An iterator is an object that is used to iterate over an iterable. It has a method called __next__ that returns the next item in the sequence. When there are no more items, it raises a StopIteration exception.\n",
        "\n",
        "- How to create:\n",
        "You can get an iterator from an iterable by using the iter() function.\n",
        "\n",
        "```\n",
        "l = [10, 20, 30]  # This is an iterable\n",
        "\n",
        "# Obtain an iterator for the list:\n",
        "l_iter = iter(l)\n",
        "\n",
        "# iterate using the iterator:\n",
        "print(next(list_iterator))  # Output: 10\n",
        "print(next(list_iterator))  # Output: 20\n",
        "print(next(list_iterator))  # Output: 30  \n",
        "#  StopIteration as we've reached the end\n",
        "```\n",
        "6.  Explain the concept of generators in Python and how they are defined?\n",
        "- Generators provide a memory-efficient way to create iterators in Python. Unlike regular functions that return a single value, generators yield a sequence of values one at a time, pausing execution and resuming when the next value is requested. This behavior makes them particularly useful for processing large datasets or infinite sequences without loading everything into memory at once.\n",
        "\n",
        " Generators are defined similarly to regular functions but use the yield keyword instead of return.\n",
        " When a generator function is called, it returns a generator object, which can then be iterated over.\n",
        "\n",
        "\n",
        "```\n",
        "def even_numbers(n):  # Generator function\n",
        "    for i in range(n):\n",
        "        if i % 2 == 0:\n",
        "            yield i\n",
        "# Using the generator:\n",
        "g = even(10)  # Get the generator object\n",
        "for num in g:\n",
        "    print(num)  # Output: 0, 2, 4, 6, 8\n",
        "```\n",
        "7. What are the advantages of using generators over regular functions?\n",
        "- Memory Efficiency: Generators produce values on-demand, reducing memory consumption, especially when dealing with large datasets. Regular functions would need to store the entire result in memory before returning it.\n",
        "\n",
        "- Improved Performance: Generators can improve performance by avoiding unnecessary computations until needed. This lazy evaluation approach can be significantly faster for certain tasks.\n",
        "\n",
        "- Infinite Sequences: Generators can represent infinite sequences, which are impossible to store in memory with regular functions.\n",
        "\n",
        "- Readability: Generators can make code more readable and maintainable by simplifying complex iterations.\n",
        "\n",
        "8.  What is a lambda function in Python and when is it typically used?\n",
        "- Lambda functions are best used for short, simple operations that don't require a full function definition. They are often used with higher-order functions like map, filter, and reduce.\n",
        "- Syntax:\n",
        "\n",
        " lambda arguments: expression\n",
        "\n",
        "```\n",
        "# lambda function (lambda x: x * 2) takes one argument (x) and returns its value doubled. This function is then used with map to apply it to each element of the numbers list.\n",
        "\n",
        "Double each element in a list\n",
        "numbers = [1, 2, 3, 4, 5]\n",
        "doubled = list(map(lambda x: x * 2, numbers))\n",
        "```\n",
        "9. Explain the purpose and usage of the `map()` function in Python?\n",
        "- Purpose:\n",
        "\n",
        "The map() function applies a given function to each item of an iterable (like a list, tuple, etc.) and returns an iterator of the results.\n",
        "\n",
        "- Usage:\n",
        "\n",
        " map(function, iterable)\n",
        "\n",
        " - function: The function to apply to each item.\n",
        "\n",
        " - iterable: The iterable to process.\n",
        "\n",
        "\n",
        "\n",
        "```\n",
        "# Calculate the square of each number in a list\n",
        "numbers = [1, 2, 3, 4, 5]\n",
        "squares = list(map(lambda x: x**2, numbers))  \n",
        "# Output: [1, 4, 9, 16, 25]\n",
        "```\n",
        " the lambda function (lambda x: x**2 )calculates the square of a number.\n",
        "\n",
        " The map() function applies this function to each number in the numbers list and returns an iterator.\n",
        "\n",
        " We then convert this iterator to a list using list() to get the final result.\n",
        "\n",
        " 10.  What is the difference between `map()`, `reduce()`, and `filter()` functions in Python?\n",
        "- map():\n",
        " - Applies a function to all items in an input list and returns a new list with the transformed items.\n",
        " - example:\n",
        "\n",
        "\n",
        "```\n",
        "numbers = [1, 2, 3, 4, 5]\n",
        "squares = list(map(lambda x: x**2, numbers))  \n",
        "# Output: [1, 4, 9, 16, 25]\n",
        "\n",
        "```\n",
        "\n",
        "\n",
        "map() applies the lambda function (lambda x: x**2)which squares a number to each element of the numbers list. The result is a new list, squares, containing the squares of the original numbers.\n",
        "\n",
        "- filter():\n",
        " Filters elements from an input list based on a given function's condition, returning a new list containing only elements that satisfy the condition.\n",
        "- example:\n",
        "\n",
        "\n",
        "```\n",
        "numbers = [1, 2, 3, 4, 5]\n",
        "evens = list(filter(lambda x: x % 2 == 0, numbers))  \n",
        "# Output: [2, 4]\n",
        "```\n",
        "filter() uses the lambda function lambda x: x % 2 == 0 to check if a number is even. It includes only the even numbers from the numbers list in the new list evens\n",
        "\n",
        "- reduce():\n",
        "Applies a function cumulatively to the items of an input list, reducing them to a single value.\n",
        " - example:\n",
        "\n",
        "\n",
        "```\n",
        "from functools import reduce\n",
        "numbers = [1, 2, 3, 4, 5]\n",
        "product = reduce(lambda x, y: x * y, numbers)  \n",
        "# Output: 120\n",
        "```\n",
        "reduce() uses the lambda function lambda x, y: x * y to multiply all elements of the numbers list together, ultimately resulting in the product of all numbers\n",
        "\n",
        "11. Using pen & Paper write the internal mechanism for sum operation using  reduce function on this given\n",
        "list:[47,11,42,13];\n",
        "- reduce Internal Steps for Summation\n",
        "\n",
        "reduce starts with the first two elements: 47 and 11.\n",
        "\n",
        "It applies the addition function: 47 + 11 = 58.\n",
        "\n",
        "It uses the result (58) and the next element (42): 58 + 42 = 100.\n",
        "\n",
        "It uses the result (100) and the final element (13): 100 + 13 = 113.\n",
        "\n",
        "reduce returns the final result: 113.\n",
        "\n",
        "\n",
        "\n",
        "\n"
      ],
      "metadata": {
        "id": "HLu-zRHLhy00"
      }
    },
    {
      "cell_type": "markdown",
      "source": [
        "# **Practical questions**"
      ],
      "metadata": {
        "id": "Kz-PC7THw5bz"
      }
    },
    {
      "cell_type": "code",
      "source": [
        "#1. Write a Python function that takes a list of numbers as input and returns the sum of all even numbers in the list?\n",
        "def sum_even_numbers(numbers):\n",
        "    sum = 0\n",
        "    for num in numbers:\n",
        "        if num % 2 == 0:\n",
        "            sum += num\n",
        "    return sum\n",
        "\n",
        "# Example usage:\n",
        "numbers = [1, 2, 3, 4, 5, 6, 7, 8, 9, 10]\n",
        "result = sum_even_numbers(numbers)\n",
        "print(\"Sum of even numbers:\", result)"
      ],
      "metadata": {
        "colab": {
          "base_uri": "https://localhost:8080/"
        },
        "id": "O8IDJlOMxCjf",
        "outputId": "cf0b42f3-9b99-420f-c6ee-42ea9ccb19b9"
      },
      "execution_count": 19,
      "outputs": [
        {
          "output_type": "stream",
          "name": "stdout",
          "text": [
            "Sum of even numbers: 30\n"
          ]
        }
      ]
    },
    {
      "cell_type": "code",
      "source": [
        "#2.Create a Python function that accepts a string and returns the reverse of that string?\n",
        "def reverse_string(text):\n",
        "  return text[::-1]\n",
        "string = \"hello\"\n",
        "reversed_string = reverse_string(string)\n",
        "print(f\"The reversed string is: {reversed_string}\")"
      ],
      "metadata": {
        "colab": {
          "base_uri": "https://localhost:8080/"
        },
        "id": "USSVO2_8xCg-",
        "outputId": "768b4d5a-170f-4aef-a896-af4d563b74c5"
      },
      "execution_count": 20,
      "outputs": [
        {
          "output_type": "stream",
          "name": "stdout",
          "text": [
            "The reversed string is: olleh\n"
          ]
        }
      ]
    },
    {
      "cell_type": "code",
      "source": [
        "#3.Implement a Python function that takes a list of integers and returns a new list containing the squares of each number?\n",
        "def sqn(numbers):\n",
        "    squares = []\n",
        "    for num in numbers:\n",
        "        squares.append(num ** 2)\n",
        "    return squares\n",
        "\n",
        "numbers = [1, 2, 3, 4, 5]\n",
        "sqn = sqn(numbers)\n",
        "print(sqn)"
      ],
      "metadata": {
        "colab": {
          "base_uri": "https://localhost:8080/"
        },
        "id": "3g600TC8xCfD",
        "outputId": "e5b64eb6-36fc-4db8-94be-de7ea9e45a72"
      },
      "execution_count": 21,
      "outputs": [
        {
          "output_type": "stream",
          "name": "stdout",
          "text": [
            "[1, 4, 9, 16, 25]\n"
          ]
        }
      ]
    },
    {
      "cell_type": "code",
      "source": [
        "#4. Write a Python function that checks if a given number is prime or not from 1 to 200\n",
        "def is_prime(number):\n",
        "  if number <= 1:\n",
        "    return False\n",
        "  for i in range(2, int(number**0.5) + 1):\n",
        "    if number % i == 0:\n",
        "      return False\n",
        "\n",
        "  return True\n",
        "\n",
        "for num in range(1, 201):\n",
        "  if is_prime(num):\n",
        "    print(f\"{num} is a prime number.\")\n",
        "  else:\n",
        "    print(f\"{num} is not a prime number.\")"
      ],
      "metadata": {
        "colab": {
          "base_uri": "https://localhost:8080/"
        },
        "collapsed": true,
        "id": "xfAk-S1axCcc",
        "outputId": "ab03b297-a563-4572-d4b4-14ab9bd7615d"
      },
      "execution_count": 22,
      "outputs": [
        {
          "output_type": "stream",
          "name": "stdout",
          "text": [
            "1 is not a prime number.\n",
            "2 is a prime number.\n",
            "3 is a prime number.\n",
            "4 is not a prime number.\n",
            "5 is a prime number.\n",
            "6 is not a prime number.\n",
            "7 is a prime number.\n",
            "8 is not a prime number.\n",
            "9 is not a prime number.\n",
            "10 is not a prime number.\n",
            "11 is a prime number.\n",
            "12 is not a prime number.\n",
            "13 is a prime number.\n",
            "14 is not a prime number.\n",
            "15 is not a prime number.\n",
            "16 is not a prime number.\n",
            "17 is a prime number.\n",
            "18 is not a prime number.\n",
            "19 is a prime number.\n",
            "20 is not a prime number.\n",
            "21 is not a prime number.\n",
            "22 is not a prime number.\n",
            "23 is a prime number.\n",
            "24 is not a prime number.\n",
            "25 is not a prime number.\n",
            "26 is not a prime number.\n",
            "27 is not a prime number.\n",
            "28 is not a prime number.\n",
            "29 is a prime number.\n",
            "30 is not a prime number.\n",
            "31 is a prime number.\n",
            "32 is not a prime number.\n",
            "33 is not a prime number.\n",
            "34 is not a prime number.\n",
            "35 is not a prime number.\n",
            "36 is not a prime number.\n",
            "37 is a prime number.\n",
            "38 is not a prime number.\n",
            "39 is not a prime number.\n",
            "40 is not a prime number.\n",
            "41 is a prime number.\n",
            "42 is not a prime number.\n",
            "43 is a prime number.\n",
            "44 is not a prime number.\n",
            "45 is not a prime number.\n",
            "46 is not a prime number.\n",
            "47 is a prime number.\n",
            "48 is not a prime number.\n",
            "49 is not a prime number.\n",
            "50 is not a prime number.\n",
            "51 is not a prime number.\n",
            "52 is not a prime number.\n",
            "53 is a prime number.\n",
            "54 is not a prime number.\n",
            "55 is not a prime number.\n",
            "56 is not a prime number.\n",
            "57 is not a prime number.\n",
            "58 is not a prime number.\n",
            "59 is a prime number.\n",
            "60 is not a prime number.\n",
            "61 is a prime number.\n",
            "62 is not a prime number.\n",
            "63 is not a prime number.\n",
            "64 is not a prime number.\n",
            "65 is not a prime number.\n",
            "66 is not a prime number.\n",
            "67 is a prime number.\n",
            "68 is not a prime number.\n",
            "69 is not a prime number.\n",
            "70 is not a prime number.\n",
            "71 is a prime number.\n",
            "72 is not a prime number.\n",
            "73 is a prime number.\n",
            "74 is not a prime number.\n",
            "75 is not a prime number.\n",
            "76 is not a prime number.\n",
            "77 is not a prime number.\n",
            "78 is not a prime number.\n",
            "79 is a prime number.\n",
            "80 is not a prime number.\n",
            "81 is not a prime number.\n",
            "82 is not a prime number.\n",
            "83 is a prime number.\n",
            "84 is not a prime number.\n",
            "85 is not a prime number.\n",
            "86 is not a prime number.\n",
            "87 is not a prime number.\n",
            "88 is not a prime number.\n",
            "89 is a prime number.\n",
            "90 is not a prime number.\n",
            "91 is not a prime number.\n",
            "92 is not a prime number.\n",
            "93 is not a prime number.\n",
            "94 is not a prime number.\n",
            "95 is not a prime number.\n",
            "96 is not a prime number.\n",
            "97 is a prime number.\n",
            "98 is not a prime number.\n",
            "99 is not a prime number.\n",
            "100 is not a prime number.\n",
            "101 is a prime number.\n",
            "102 is not a prime number.\n",
            "103 is a prime number.\n",
            "104 is not a prime number.\n",
            "105 is not a prime number.\n",
            "106 is not a prime number.\n",
            "107 is a prime number.\n",
            "108 is not a prime number.\n",
            "109 is a prime number.\n",
            "110 is not a prime number.\n",
            "111 is not a prime number.\n",
            "112 is not a prime number.\n",
            "113 is a prime number.\n",
            "114 is not a prime number.\n",
            "115 is not a prime number.\n",
            "116 is not a prime number.\n",
            "117 is not a prime number.\n",
            "118 is not a prime number.\n",
            "119 is not a prime number.\n",
            "120 is not a prime number.\n",
            "121 is not a prime number.\n",
            "122 is not a prime number.\n",
            "123 is not a prime number.\n",
            "124 is not a prime number.\n",
            "125 is not a prime number.\n",
            "126 is not a prime number.\n",
            "127 is a prime number.\n",
            "128 is not a prime number.\n",
            "129 is not a prime number.\n",
            "130 is not a prime number.\n",
            "131 is a prime number.\n",
            "132 is not a prime number.\n",
            "133 is not a prime number.\n",
            "134 is not a prime number.\n",
            "135 is not a prime number.\n",
            "136 is not a prime number.\n",
            "137 is a prime number.\n",
            "138 is not a prime number.\n",
            "139 is a prime number.\n",
            "140 is not a prime number.\n",
            "141 is not a prime number.\n",
            "142 is not a prime number.\n",
            "143 is not a prime number.\n",
            "144 is not a prime number.\n",
            "145 is not a prime number.\n",
            "146 is not a prime number.\n",
            "147 is not a prime number.\n",
            "148 is not a prime number.\n",
            "149 is a prime number.\n",
            "150 is not a prime number.\n",
            "151 is a prime number.\n",
            "152 is not a prime number.\n",
            "153 is not a prime number.\n",
            "154 is not a prime number.\n",
            "155 is not a prime number.\n",
            "156 is not a prime number.\n",
            "157 is a prime number.\n",
            "158 is not a prime number.\n",
            "159 is not a prime number.\n",
            "160 is not a prime number.\n",
            "161 is not a prime number.\n",
            "162 is not a prime number.\n",
            "163 is a prime number.\n",
            "164 is not a prime number.\n",
            "165 is not a prime number.\n",
            "166 is not a prime number.\n",
            "167 is a prime number.\n",
            "168 is not a prime number.\n",
            "169 is not a prime number.\n",
            "170 is not a prime number.\n",
            "171 is not a prime number.\n",
            "172 is not a prime number.\n",
            "173 is a prime number.\n",
            "174 is not a prime number.\n",
            "175 is not a prime number.\n",
            "176 is not a prime number.\n",
            "177 is not a prime number.\n",
            "178 is not a prime number.\n",
            "179 is a prime number.\n",
            "180 is not a prime number.\n",
            "181 is a prime number.\n",
            "182 is not a prime number.\n",
            "183 is not a prime number.\n",
            "184 is not a prime number.\n",
            "185 is not a prime number.\n",
            "186 is not a prime number.\n",
            "187 is not a prime number.\n",
            "188 is not a prime number.\n",
            "189 is not a prime number.\n",
            "190 is not a prime number.\n",
            "191 is a prime number.\n",
            "192 is not a prime number.\n",
            "193 is a prime number.\n",
            "194 is not a prime number.\n",
            "195 is not a prime number.\n",
            "196 is not a prime number.\n",
            "197 is a prime number.\n",
            "198 is not a prime number.\n",
            "199 is a prime number.\n",
            "200 is not a prime number.\n"
          ]
        }
      ]
    },
    {
      "cell_type": "code",
      "source": [
        "#5. Create an iterator class in Python that generates the Fibonacci sequence up to a specified number of terms\n",
        "class FibonacciIterator:\n",
        "    def __init__(self, max_terms):\n",
        "        self.max_terms = max_terms\n",
        "        self.current_term = 0\n",
        "        self.a = 0\n",
        "        self.b = 1\n",
        "\n",
        "    def __iter__(self):\n",
        "        return self\n",
        "\n",
        "    def __next__(self):\n",
        "        if self.current_term < self.max_terms:\n",
        "            result = self.a\n",
        "            self.a, self.b = self.b, self.a + self.b\n",
        "            self.current_term += 1\n",
        "            return result\n",
        "        else:\n",
        "            raise StopIteration\n",
        "\n",
        "max_terms = 10\n",
        "fib_iterator = FibonacciIterator(max_terms)\n",
        "\n",
        "for term in fib_iterator:\n",
        "    print(term)\n"
      ],
      "metadata": {
        "colab": {
          "base_uri": "https://localhost:8080/"
        },
        "collapsed": true,
        "id": "TeU2Sg-jxCZ2",
        "outputId": "41d5f761-bed5-4af6-dd51-3df35c2116b4"
      },
      "execution_count": 25,
      "outputs": [
        {
          "output_type": "stream",
          "name": "stdout",
          "text": [
            "0\n",
            "1\n",
            "1\n",
            "2\n",
            "3\n",
            "5\n",
            "8\n",
            "13\n",
            "21\n",
            "34\n"
          ]
        }
      ]
    },
    {
      "cell_type": "code",
      "source": [
        "#6. Write a generator function in Python that yields the powers of 2 up to a given exponent?\n",
        "def powers_of_2(exponent):\n",
        "    for i in range(exponent + 1):\n",
        "        yield 2 ** i\n",
        "\n",
        "for power in powers_of_2(5):\n",
        "    print(power)"
      ],
      "metadata": {
        "colab": {
          "base_uri": "https://localhost:8080/"
        },
        "collapsed": true,
        "id": "BJPNHN2IxCUC",
        "outputId": "9122135e-215b-4ea6-a7e3-ac908143ff32"
      },
      "execution_count": 26,
      "outputs": [
        {
          "output_type": "stream",
          "name": "stdout",
          "text": [
            "1\n",
            "2\n",
            "4\n",
            "8\n",
            "16\n",
            "32\n"
          ]
        }
      ]
    },
    {
      "cell_type": "code",
      "source": [
        "#7."
      ],
      "metadata": {
        "id": "WahopD8m5sN4"
      },
      "execution_count": null,
      "outputs": []
    },
    {
      "cell_type": "code",
      "source": [
        "#8. Use a lambda function in Python to sort a list of tuples based on the second element of each tuple?\n",
        "my_list = [('apple', 3), ('banana', 1), ('cherry', 2)]\n",
        "sorted_list = sorted(my_list, key=lambda item: item[1])\n",
        "print(sorted_list)"
      ],
      "metadata": {
        "colab": {
          "base_uri": "https://localhost:8080/"
        },
        "id": "hKyebkF801Cs",
        "outputId": "670a7a28-8aac-443f-c7c1-0ae90e737e3a"
      },
      "execution_count": 32,
      "outputs": [
        {
          "output_type": "stream",
          "name": "stdout",
          "text": [
            "[('banana', 1), ('cherry', 2), ('apple', 3)]\n"
          ]
        }
      ]
    },
    {
      "cell_type": "code",
      "source": [
        "#9. Write a Python program that uses `map()` to convert a list of temperatures from Celsius to Fahrenheit?\n",
        "def celsius_to_fahrenheit(celsius):\n",
        "    return (celsius * 9/5) + 32\n",
        "celsius_temps = [0, 10, 20, 30, 40]\n",
        "fahrenheit_temps = list(map(celsius_to_fahrenheit, celsius_temps))\n",
        "print(fahrenheit_temps)"
      ],
      "metadata": {
        "colab": {
          "base_uri": "https://localhost:8080/"
        },
        "collapsed": true,
        "id": "aaMIWmk5007n",
        "outputId": "e9a569df-4f53-458a-ec2b-5860d18bc077"
      },
      "execution_count": 33,
      "outputs": [
        {
          "output_type": "stream",
          "name": "stdout",
          "text": [
            "[32.0, 50.0, 68.0, 86.0, 104.0]\n"
          ]
        }
      ]
    },
    {
      "cell_type": "code",
      "source": [
        "#10.Create a Python program that uses `filter()` to remove all the vowels from a given string?\n",
        "def remove_vowels(text):\n",
        "    vowels = \"aeiouAEIOU\"\n",
        "    return \"\".join(filter(lambda char: char not in vowels, text))\n",
        "# Example usage:\n",
        "text = \"Abhinav Sharma\"\n",
        "result = remove_vowels(text)\n",
        "print(result)"
      ],
      "metadata": {
        "colab": {
          "base_uri": "https://localhost:8080/"
        },
        "collapsed": true,
        "id": "KMwqkYeB2Xpl",
        "outputId": "9fe2e4c8-afa3-4eab-b1ea-92340d714742"
      },
      "execution_count": 35,
      "outputs": [
        {
          "output_type": "stream",
          "name": "stdout",
          "text": [
            "bhnv Shrm\n"
          ]
        }
      ]
    },
    {
      "cell_type": "code",
      "source": [
        "'''\n",
        "1.Imagine an accounting routine used in a book shop. It works on a list with sublists, which look like this:\n",
        "\n",
        "Order Number\tBook Title and Author\tQuantity\tPrice per Item\n",
        "34587\tLearning Python, Mark Lutz\t4\t40.95\n",
        "98762\tProgramming Python, Mark Lutz\t5\t56.80\n",
        "77226\tHead First Python, Paul Barry\t3\t32.95\n",
        "88112\tEinführung in Python3, Bernd Klein\t3\t24.99\n",
        "\n",
        "Write a Python program, which returns a list with 2-tuples. Each tuple consists of the order number and the\n",
        "product of the price per item and the quantity. The product should be increased by 10,- € if the value of the\n",
        "order is smaller than 100,00 €.\n",
        "\n",
        "Write a Python program using lambda and map.\n",
        "'''\n",
        "orders = [\n",
        "    [34587, 'Learning Python, Mark Lutz', 4, 40.95],\n",
        "    [98762, 'Programming Python, Mark Lutz', 5, 56.80],\n",
        "    [77226, 'Head First Python, Paul Barry', 3, 32.95],\n",
        "    [88112, 'Einführung in Python3, Bernd Klein', 3, 24.99]\n",
        "]\n",
        "\n",
        "invoice_totals = list(map(\n",
        "    lambda order: (order[0], order[2] * order[3] + (10 if order[2] * order[3] < 100 else 0)),\n",
        "    orders\n",
        "))\n",
        "\n",
        "print(invoice_totals)\n",
        "\n"
      ],
      "metadata": {
        "colab": {
          "base_uri": "https://localhost:8080/"
        },
        "collapsed": true,
        "id": "Un23alKA2Xhh",
        "outputId": "433d2f83-2d07-497f-9960-01370dfd3bd6"
      },
      "execution_count": 36,
      "outputs": [
        {
          "output_type": "stream",
          "name": "stdout",
          "text": [
            "[(34587, 163.8), (98762, 284.0), (77226, 108.85000000000001), (88112, 84.97)]\n"
          ]
        }
      ]
    }
  ]
}